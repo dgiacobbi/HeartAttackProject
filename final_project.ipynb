{
 "cells": [
  {
   "cell_type": "markdown",
   "metadata": {},
   "source": [
    "David Giacobbi \\\n",
    "Gonzaga University \\\n",
    "CPSC 322, Fall 2023\n",
    "\n",
    "# Classification Analysis: Heart Risk and Patient Country Data"
   ]
  },
  {
   "cell_type": "markdown",
   "metadata": {},
   "source": [
    "## Introduction\n",
    "\n",
    "This project dives into the analysis of the driving forces behind heart attack risk for patients across the world. This is a major issue in the medical field as heart attacks and other cardiovascular episode occur at unexpected times for people. This becomes an issue when no proper treatment is available for a person during these episodes, possibly resulting in deadly consequences. By identifying major characteristics of patients at risk of a heart attack, it can become easier for people to monitor their risk without necessarily being within the confines of a hospital. The following classifier that is developed is a mere example of the power machine learning can have in the medical field."
   ]
  },
  {
   "cell_type": "markdown",
   "metadata": {},
   "source": [
    "### Dataset Attributes\n",
    "\n",
    "The following two datasets will be utilized in this project to provide extensive information on a patient's overall health and well being, including their various attributes pertaining to their country. There are many external factors that could influence the risk of a heart attack in a person. This classifier model will look to see if information concerning a country's economic and health status affects the accesibility to get adequate support and treatment for the heart needs of patients.\n",
    "\n",
    "\n",
    "#### Heart Attack Risk Dataset\n",
    "\n",
    "The [Heart Attack Risk Dataset](https://www.kaggle.com/datasets/iamsouravbanerjee/heart-attack-prediction-dataset/) was taken from Kaggle's dataset website. It has extensive health and lifestyle habits documented from over 8000 patients from around the world. It has a split of continuous and categorical values, but many will need to be normalized before building the classifier model. Below is the list of attributes from the dataset; most of these will be kept to develop the classifier as they directly pertain to a patient's heart health.\n",
    "\n",
    "**Number of Instances**: 8763\n",
    "\n",
    "**Patient ID**: Unique identifier for each patient [Nominal] \\\n",
    "**Age**: Age of the patient [Nominal] \\\n",
    "**Sex**: Gender of the patient (Male/Female) [Nominal] \\\n",
    "**Cholesterol**: Cholesterol levels of the patient [Ratio] \\\n",
    "**Blood Pressure**: Blood pressure of the patient (systolic/diastolic) [Ratio] \\\n",
    "**Heart Rate**: Heart rate of the patient [Ratio] \\\n",
    "**Diabetes**: Whether the patient has diabetes (Yes/No) [Nominal] \\\n",
    "**Family History**: Family history of heart-related problems (1: Yes, 0: No) [Nominal] \\\n",
    "**Smoking**: Smoking status of the patient (1: Smoker, 0: Non-smoker) [Nominal] \\\n",
    "**Obesity**: Obesity status of the patient (1: Obese, 0: Not obese) [Nominal] \\\n",
    "**Alcohol Consumption**: Level of alcohol consumption by the patient (None/Light/Moderate/Heavy) [Nominal] \\\n",
    "**Exercise Hours Per Week**: Number of exercise hours per week [Ratio] \\\n",
    "**Diet**: Dietary habits of the patient (Healthy/Average/Unhealthy) [Ordinal] \\\n",
    "**Previous Heart Problems**: Previous heart problems of the patient (1: Yes, 0: No) [Nominal] \\\n",
    "**Medication Use**: Medication usage by the patient (1: Yes, 0: No) [Nominal] \\\n",
    "**Stress Level**: Stress level reported by the patient (1-10) [Ordinal] \\\n",
    "**Sedentary Hours Per Day**: Hours of sedentary activity per day [Ratio] \\\n",
    "**Income**: Income level of the patient [Ratio] \\\n",
    "**BMI**: Body Mass Index (BMI) of the patient [Ratio] \\\n",
    "**Triglycerides**: Triglyceride levels of the patient [Ratio] \\\n",
    "**Physical Activity Days Per Week**: Days of physical activity per week [Ratio] \\\n",
    "**Sleep Hours Per Day**: Hours of sleep per day [Ratio] \\\n",
    "**Country**: Country of the patient [Nominal] \\\n",
    "**Continent**: Continent where the patient resides [Nominal] \\\n",
    "**Hemisphere**: Hemisphere where the patient resides [Nominal] \\\n",
    "**Heart Attack Risk**: Presence of heart attack risk (1: Yes, 0: No) [Nominal]\n",
    "\n",
    "#### World Country 2023 Dataset\n",
    "\n",
    "The [World Country 2023 Dataset](https://www.kaggle.com/datasets/nelgiriyewithana/countries-of-the-world-2023/) provides many attributes on various facets of every country's economy, location, and overall population health. Mainly, the population health data will be utilized to analyze how country's health care accessibility make it easier or harder for a patient to become more at risk of a heart attack. Below are the attributes that help to describe each country in the dataset. Many of these attributes will be dropped except the ones related to country health care and overall affordability.\n",
    "\n",
    "**Number of Instances**: 195\n",
    "\n",
    "**Country**: Name of the country [Nominal] \\\n",
    "**Density (P/Km2)**: Population density measured in persons per square kilometer [Ratio] \\\n",
    "**Abbreviation**: Abbreviation or code representing the country [Nominal] \\\n",
    "**Agricultural Land (%)**: Percentage of land area used for agricultural purposes [Ratio] \\\n",
    "**Land Area (Km2)**: Total land area of the country in square kilometers [Ratio] \\\n",
    "**Armed Forces Size**: Size of the armed forces in the country [Ratio] \\\n",
    "**Birth Rate**: Number of births per 1,000 population per year [Ratio] \\\n",
    "**Calling Code**: International calling code for the country [Nominal] \\\n",
    "**Capital/Major City**: Name of the capital or major city [Nominal] \\\n",
    "**CO2 Emissions**: Carbon dioxide emissions in tons [Ratio] \\\n",
    "**CPI**: Consumer Price Index, a measure of inflation and purchasing power [Ratio] \\\n",
    "**CPI Change (%)**: Percentage change in the Consumer Price Index compared to the previous year [Interval] \\\n",
    "**Currency Code**: Currency code used in the country [Nominal] \\\n",
    "**Fertility Rate**: Average number of children born to a woman during her lifetime [Ratio] \\\n",
    "**Forested Area (%)**: Percentage of land area covered by forests [Ratio] \\\n",
    "**Gasoline Price**: Price of gasoline per liter in local currency [Interval] \\\n",
    "**GDP**: Gross Domestic Product, the total value of goods and services produced in the country [Ratio] \\\n",
    "**Gross Primary Education Enrollment (%)**: Gross enrollment ratio for primary education [Ratio] \\\n",
    "**Gross Tertiary Education Enrollment (%)**: Gross enrollment ratio for tertiary education [Ratio] \\\n",
    "**Infant Mortality**: Number of deaths per 1,000 live births before reaching one year of age [Ratio] \\\n",
    "**Largest City**: Name of the country's largest city [Nominal] \\\n",
    "**Life Expectancy**: Average number of years a newborn is expected to live [Ratio] \\\n",
    "**Maternal Mortality Ratio**: Number of maternal deaths per 100,000 live births [Ratio] \\\n",
    "**Minimum Wage**: Minimum wage level in local currency [Ratio] \\\n",
    "**Official Language**: Official language(s) spoken in the country [Nominal] \\\n",
    "**Out of Pocket Health Expenditure (%)**: Percentage of total health expenditure paid out-of-pocket by individuals [Ratio] \\\n",
    "**Physicians per Thousand**: Number of physicians per thousand people [Ratio] \\\n",
    "**Population**: Total population of the country [Ratio] \\\n",
    "**Labor Force Participation (%)**: Percentage of the population that is part of the labor force [Ratio] \\\n",
    "**Tax Revenue (%)**: Tax revenue as a percentage of GDP [Ratio] \\\n",
    "**Total Tax Rate**: Overall tax burden as a percentage of commercial profits [Ratio] \\\n",
    "**Unemployment Rate**: Percentage of the labor force that is unemployed [Ratio] \\\n",
    "**Urban Population**: Percentage of the population living in urban areas [Ratio] \\\n",
    "**Latitude**: Latitude coordinate of the country's location [Interval] \\\n",
    "**Longitude**: Longitude coordinate of the country's location [Interval]"
   ]
  },
  {
   "cell_type": "markdown",
   "metadata": {},
   "source": [
    "### Classification Details\n",
    "\n",
    "The heart attack risk dataset classifies patients as either an at risk patient (1) or healthy patient (0). The goal of this project's classifier is to accurately predict whether any given patient is or is not at risk of a heart attack. In other terms, predict whether a patient's risk is currently a 0 or 1. In order to do this, classification methods will need to be explored in order to understand which features in particular impact this prediction the most. The following classifiers will be developed and tuned in order to create a tailored classifier for this dataset:\n",
    "\n",
    "1. kNN\n",
    "2. Naive Bayes\n",
    "3. Decision Tree\n",
    "\n",
    "Additionally, the project will look to fine tune a specific classifer to aquire the best performance. One hope is to use an ensemble method of classifier, decision trees in particular. The following ideas will be explored in tailoring the classifier:\n",
    "\n",
    "1. Random Forests\n",
    "\n",
    "#### Performance\n",
    "\n",
    "This dataset had many features to look at to determine a patient's heart attack risk. As a result, it was difficult to truly identify the set of features that would produce the best classifier for the dataset. As seen for the simple approaches, using as many features as possible often resulted in low performance as it created too much nuance for the classifier to decide which class an instance fell under. Overall, however, steps towards improvement were made in the random forests classifier, the tailored classifier for this project."
   ]
  },
  {
   "cell_type": "markdown",
   "metadata": {},
   "source": [
    "## Data Analysis"
   ]
  },
  {
   "cell_type": "markdown",
   "metadata": {},
   "source": [
    "### Dataset Preparation\n",
    "\n",
    "In order to begin working with the dataset, the two tables must be loaded and combined. Following that requires narrowing the combined set into a workable dataset with cleaned values and discretization as needed. This can all be done with a few quick lines of code as seen below. Ultimately, the cleaned dataset will have the following columns:\n",
    "\n",
    "1. Patient ID\n",
    "1. Age\n",
    "1. Sex\n",
    "1. Cholesterol\n",
    "1. Blood Pressure\n",
    "1. Heart Rate\n",
    "1. Diabetes\n",
    "1. Smoking\n",
    "1. Obesity\n",
    "1. Alcohol Consumption\n",
    "1. Exercise Hours\n",
    "1. Stress\n",
    "1. BMI\n",
    "1. Triglycerides\n",
    "1. Sleep Hours\n",
    "1. Country\n",
    "1. Heart Attack Risk\n",
    "1. Birth Rate\n",
    "1. Fertility Rate\n",
    "1. Country GDP\n",
    "1. Life Expectancy\n",
    "1. Out of Pocket Health Expenditure\n",
    "1. Physicians\n",
    "\n",
    "**(a) Import the necessary libraries and functions.**"
   ]
  },
  {
   "cell_type": "code",
   "execution_count": 24,
   "metadata": {},
   "outputs": [],
   "source": [
    "from data_table import *\n",
    "from data_learn import *\n",
    "from data_eval import *\n",
    "from data_util import *"
   ]
  },
  {
   "cell_type": "markdown",
   "metadata": {},
   "source": [
    "**(b) Load and combine the datasets into a singular data table.**"
   ]
  },
  {
   "cell_type": "code",
   "execution_count": 25,
   "metadata": {},
   "outputs": [],
   "source": [
    "heart_attributes = ['patient_id', 'age', 'sex', 'cholesterol', 'blood_pressure', 'heart_rate', 'diabetes', 'family_history', 'smoking', 'obesity', \n",
    "                    'alcohol_csmp', 'exercise_hrs', 'diet', 'prev_heart_prob', 'med_use', 'stress', 'sedentary_hrs', 'income', 'bmi', 'triglycerides', \n",
    "                    'phys_act_days', 'sleep_hrs', 'country', 'continent', 'hemisphere', 'heart_attack_risk']\n",
    "\n",
    "heart_risk_table = DataTable(heart_attributes)\n",
    "heart_risk_table.load('heart_attack_prediction_dataset.csv')\n",
    "\n",
    "\n",
    "country_attributes = ['country', 'density', 'abbreviation', 'agri_land', 'land_area', 'armed_forces', 'birth_rate', 'call_code', 'capital', \n",
    "                      'co2_emissions', 'cpi', 'cpi_change', 'currency_code', 'fertility_rate', 'forest_area', 'gas_price', 'gdp', 'gpee', 'gtee',\n",
    "                      'infant_mortality', 'largest_city', 'life_expectancy', 'maternal_mortality', 'min_wage', 'language', 'health_out_pocket', \n",
    "                      'physicians', 'population', 'labor_force_pop', 'tax_revenue', 'tax_rate', 'unemploy_rate', 'urban_pop', 'lat', 'lon']\n",
    "\n",
    "country_table = DataTable(country_attributes)\n",
    "country_table.load('world-data-2023.csv')\n",
    "\n",
    "health_table = DataTable.combine(heart_risk_table, country_table, ['country'])"
   ]
  },
  {
   "cell_type": "markdown",
   "metadata": {},
   "source": [
    "**(c) Drop unnecessary columns from combined dataset.**"
   ]
  },
  {
   "cell_type": "code",
   "execution_count": 26,
   "metadata": {},
   "outputs": [
    {
     "name": "stdout",
     "output_type": "stream",
     "text": [
      "['patient_id', 'age', 'sex', 'cholesterol', 'blood_pressure', 'heart_rate', 'diabetes', 'smoking', 'obesity', 'alcohol_csmp', 'exercise_hrs', 'stress', 'bmi', 'triglycerides', 'sleep_hrs', 'country', 'heart_attack_risk', 'birth_rate', 'fertility_rate', 'gdp', 'life_expectancy', 'health_out_pocket', 'physicians']\n"
     ]
    }
   ],
   "source": [
    "health_table.drop(['family_history', 'diet', 'prev_heart_prob', 'med_use', 'sedentary_hrs', 'income',\n",
    "                   'phys_act_days', 'continent', 'hemisphere', 'density', 'abbreviation', 'agri_land', \n",
    "                   'land_area', 'armed_forces', 'call_code', 'capital', 'co2_emissions', 'cpi', 'cpi_change', \n",
    "                   'currency_code', 'forest_area', 'gas_price', 'gpee', 'gtee', 'infant_mortality', 'largest_city', \n",
    "                   'maternal_mortality', 'min_wage', 'language', 'population', 'labor_force_pop', 'tax_revenue', \n",
    "                   'tax_rate', 'unemploy_rate', 'urban_pop', 'lat', 'lon'])\n",
    "\n",
    "print(health_table.columns())"
   ]
  },
  {
   "cell_type": "markdown",
   "metadata": {},
   "source": [
    "**(d) Clean the remaining dataset columns.**\n",
    "\n",
    "The next step in cleaning is to check if there are any missing values in the table. If there are a lot, then a middle value calculation will be used to fill the missing value. If there are only a couple, however, the instance will be dropped. The code below shows that there are no missing values in the table, so it is okay to move on to visualizations."
   ]
  },
  {
   "cell_type": "code",
   "execution_count": 27,
   "metadata": {},
   "outputs": [
    {
     "name": "stdout",
     "output_type": "stream",
     "text": [
      "Before Removing Missing Values: 8763\n",
      "After Removing Missing Values 8763\n"
     ]
    }
   ],
   "source": [
    "print(\"Before Removing Missing Values:\", health_table.row_count())\n",
    "\n",
    "health_table = remove_missing(health_table, health_table.columns())\n",
    "print(\"After Removing Missing Values\", health_table.row_count())"
   ]
  },
  {
   "cell_type": "markdown",
   "metadata": {},
   "source": [
    "**(e) Discretize Continuous Values**\n",
    "\n",
    "The majority of the classifiers being used look to compare categorical values. This not only is crucial for classifiers such as the decision tree, but it also greatly increases the overall speed of building certain classifiers. Given this time constraint, categorical values will mainly be used in predicting the heart attack risk of patients.\n",
    "\n",
    "One great example is age; rather than look at each age uniquely, it would be more helpful to look at age groups (children, young adults, adults, seniors, etc.).  This will be done with the data_util discretize() function. The following bins will be used:\n",
    "\n",
    "1. **Young Adults**: 18-34\n",
    "1. **Adults**: 35-54\n",
    "1. **Older Adults:**: 54-72\n",
    "1. **Seniors**: 65+\n",
    "\n",
    "The other continuous columns will be discretized too in the below code. The bins were chosen based on the distributions of these features described on Kaggle, the website of the Heart Attack Risk Dataset.\n",
    "\n",
    "1. **Cholesterol**: [Continuous], visualization showed a slight jump in risk for patients with higher cholesterol\n",
    "1. **Triglycerides**: [Continuous], trend revealed in initial data visualization\n",
    "1. **BMI**: [Continuous], trend revealed in initial data visualization"
   ]
  },
  {
   "cell_type": "code",
   "execution_count": 28,
   "metadata": {},
   "outputs": [],
   "source": [
    "discretize(health_table, 'age', [35, 54, 72])\n",
    "discretize(health_table, 'cholesterol', [192, 259, 330])\n",
    "discretize(health_table, 'triglycerides', [225, 417, 612])\n",
    "discretize(health_table, 'bmi', [23.4, 28.8, 34.3])\n",
    "discretize(health_table, 'life_expectancy', [66.9, 73.2, 77.6])\n",
    "discretize(health_table, 'physicians', [0.34, 1.51, 2.98])"
   ]
  },
  {
   "cell_type": "markdown",
   "metadata": {},
   "source": [
    "**(f) Normalize Continuous Features**\n",
    "\n",
    "In order to remove weight bias from certain features, it is necessary that all continuous features are normalized. The following features will be normalized for analysis:\n",
    "\n",
    "1. Heart Rate\n",
    "1. Exercise Hours\n",
    "1. Out of Pocket Expenditures"
   ]
  },
  {
   "cell_type": "code",
   "execution_count": 29,
   "metadata": {},
   "outputs": [],
   "source": [
    "# Change string values to decimals\n",
    "for row in health_table:\n",
    "    current_str = row['health_out_pocket']\n",
    "    row['health_out_pocket'] = float(current_str.strip('%'))\n",
    "\n",
    "# Normalize data features\n",
    "cont_features = ['heart_rate', 'exercise_hrs', 'health_out_pocket']\n",
    "for feature in cont_features:\n",
    "    normalize(health_table, feature)"
   ]
  },
  {
   "cell_type": "markdown",
   "metadata": {},
   "source": [
    "### Exploratory Data Analysis\n",
    "\n",
    "In order to gage which attributes will be held under the spotlight for the Heart Risk Classifier, distinct trends need to be identified between features.\n",
    "\n",
    "#### Statistical Summaries\n",
    "\n",
    "**(i) Summary Stats of Health Table**"
   ]
  },
  {
   "cell_type": "code",
   "execution_count": 30,
   "metadata": {},
   "outputs": [
    {
     "name": "stdout",
     "output_type": "stream",
     "text": [
      "Column: heart_rate\n",
      "Average: 0.5003097438907083\n",
      "Max: 1.0\n",
      "Min: 0.0\n",
      "\n",
      "Column: life_expectancy\n",
      "Average: 3.3045760584274793\n",
      "Max: 4\n",
      "Min: 1\n",
      "\n",
      "Column: physicians\n",
      "Average: 3.51203925596257\n",
      "Max: 4\n",
      "Min: 2\n",
      "\n",
      "Column: diabetes\n",
      "Average: 0.6522880292137396\n",
      "Max: 1\n",
      "Min: 0\n",
      "\n",
      "Column: obesity\n",
      "Average: 0.5014264521282665\n",
      "Max: 1\n",
      "Min: 0\n",
      "\n",
      "Column: smoking\n",
      "Average: 0.8968389820837612\n",
      "Max: 1\n",
      "Min: 0\n",
      "\n",
      "Column: alcohol_csmp\n",
      "Average: 0.5980828483396097\n",
      "Max: 1\n",
      "Min: 0\n",
      "\n",
      "Column: cholesterol\n",
      "Average: 2.502339381490357\n",
      "Max: 4\n",
      "Min: 1\n",
      "\n",
      "Column: triglycerides\n",
      "Average: 2.5017688006390504\n",
      "Max: 4\n",
      "Min: 1\n",
      "\n",
      "Column: bmi\n",
      "Average: 2.500285290425653\n",
      "Max: 4\n",
      "Min: 1\n",
      "\n"
     ]
    }
   ],
   "source": [
    "overview_cols = ['heart_rate', 'life_expectancy', 'physicians', 'diabetes', 'obesity',  'smoking', 'alcohol_csmp', 'cholesterol', 'triglycerides', 'bmi']\n",
    "\n",
    "for column in overview_cols:\n",
    "    print(\"Column:\", column)\n",
    "    print(\"Average:\", mean(health_table, column))\n",
    "    print(\"Max:\", max(column_values(health_table, column)))\n",
    "    print(\"Min:\", min(column_values(health_table, column)))\n",
    "    print()"
   ]
  },
  {
   "cell_type": "markdown",
   "metadata": {},
   "source": [
    "**(ii) Summary Stats of Healthy Patients**"
   ]
  },
  {
   "cell_type": "code",
   "execution_count": 31,
   "metadata": {},
   "outputs": [
    {
     "name": "stdout",
     "output_type": "stream",
     "text": [
      "Column: heart_rate\n",
      "Average: 0.5012421255842311\n",
      "Max: 1.0\n",
      "Min: 0.0\n",
      "\n",
      "Column: life_expectancy\n",
      "Average: 3.305298719772404\n",
      "Max: 4\n",
      "Min: 1\n",
      "\n",
      "Column: physicians\n",
      "Average: 3.5099573257467993\n",
      "Max: 4\n",
      "Min: 2\n",
      "\n",
      "Column: diabetes\n",
      "Average: 0.6461593172119487\n",
      "Max: 1\n",
      "Min: 0\n",
      "\n",
      "Column: obesity\n",
      "Average: 0.5064011379800853\n",
      "Max: 1\n",
      "Min: 0\n",
      "\n",
      "Column: smoking\n",
      "Average: 0.8977596017069701\n",
      "Max: 1\n",
      "Min: 0\n",
      "\n",
      "Column: alcohol_csmp\n",
      "Average: 0.6031294452347084\n",
      "Max: 1\n",
      "Min: 0\n",
      "\n",
      "Column: cholesterol\n",
      "Average: 2.4882645803698433\n",
      "Max: 4\n",
      "Min: 1\n",
      "\n",
      "Column: triglycerides\n",
      "Average: 2.4973328591749646\n",
      "Max: 4\n",
      "Min: 1\n",
      "\n",
      "Column: bmi\n",
      "Average: 2.498577524893314\n",
      "Max: 4\n",
      "Min: 1\n",
      "\n"
     ]
    }
   ],
   "source": [
    "healthy_partition = partition(health_table, ['heart_attack_risk'])\n",
    "\n",
    "for column in overview_cols:\n",
    "    print(\"Column:\", column)\n",
    "    print(\"Average:\", mean(healthy_partition[0], column))\n",
    "    print(\"Max:\", max(column_values(healthy_partition[0], column)))\n",
    "    print(\"Min:\", min(column_values(healthy_partition[0], column)))\n",
    "    print()"
   ]
  },
  {
   "cell_type": "markdown",
   "metadata": {},
   "source": [
    "**(iii) Summary Stats of At Risk Patients**"
   ]
  },
  {
   "cell_type": "code",
   "execution_count": 32,
   "metadata": {},
   "outputs": [
    {
     "name": "stdout",
     "output_type": "stream",
     "text": [
      "Column: heart_rate\n",
      "Average: 0.4986392390661262\n",
      "Max: 1.0\n",
      "Min: 0.0\n",
      "\n",
      "Column: life_expectancy\n",
      "Average: 3.303281299776999\n",
      "Max: 4\n",
      "Min: 1\n",
      "\n",
      "Column: physicians\n",
      "Average: 3.5157693532972285\n",
      "Max: 4\n",
      "Min: 2\n",
      "\n",
      "Column: diabetes\n",
      "Average: 0.6632685568652437\n",
      "Max: 1\n",
      "Min: 0\n",
      "\n",
      "Column: obesity\n",
      "Average: 0.49251353934374004\n",
      "Max: 1\n",
      "Min: 0\n",
      "\n",
      "Column: smoking\n",
      "Average: 0.8951895508123606\n",
      "Max: 1\n",
      "Min: 0\n",
      "\n",
      "Column: alcohol_csmp\n",
      "Average: 0.589041095890411\n",
      "Max: 1\n",
      "Min: 0\n",
      "\n",
      "Column: cholesterol\n",
      "Average: 2.5275565466709145\n",
      "Max: 4\n",
      "Min: 1\n",
      "\n",
      "Column: triglycerides\n",
      "Average: 2.509716470213444\n",
      "Max: 4\n",
      "Min: 1\n",
      "\n",
      "Column: bmi\n",
      "Average: 2.5033450143357756\n",
      "Max: 4\n",
      "Min: 1\n",
      "\n"
     ]
    }
   ],
   "source": [
    "for column in overview_cols:\n",
    "    print(\"Column:\", column)\n",
    "    print(\"Average:\", mean(healthy_partition[1], column))\n",
    "    print(\"Max:\", max(column_values(healthy_partition[1], column)))\n",
    "    print(\"Min:\", min(column_values(healthy_partition[1], column)))\n",
    "    print()"
   ]
  },
  {
   "cell_type": "markdown",
   "metadata": {},
   "source": [
    "#### Patient Health Visualizations\n",
    "\n",
    "**Figure 1**\\\n",
    "For this visualization, the group of patients at risk of heart attack's cholesterol levels will be compared to the cholesterol levels of patients who are not at risk of a heart attack."
   ]
  },
  {
   "cell_type": "code",
   "execution_count": 33,
   "metadata": {},
   "outputs": [
    {
     "data": {
      "image/png": "[encoded data removed]",
      "text/plain": [
       "<Figure size 640x480 with 1 Axes>"
      ]
     },
     "metadata": {},
     "output_type": "display_data"
    }
   ],
   "source": [
    "risk_partition = partition(health_table, ['heart_attack_risk'])\n",
    "\n",
    "risk_distributions = []\n",
    "for risk in risk_partition:\n",
    "    risk_distributions.append([row['cholesterol'] for row in risk])\n",
    "\n",
    "box_plot(risk_distributions, ['Healthy', 'At Risk'], 'Patient Heart Condition', 'Cholesterol Level', 'Cholesterol Levels in Heart Patients (Fig 1)')"
   ]
  },
  {
   "cell_type": "markdown",
   "metadata": {},
   "source": [
    "**Figures 2 and 3**\\\n",
    "It is apparent from this box plot that there is very little difference between healthy and at risk patients when it comes to classifying solely based on cholesterol levels. In order to get better classifiers, box plot distributions will be gathered from BMI and triglycerides."
   ]
  },
  {
   "cell_type": "code",
   "execution_count": 34,
   "metadata": {},
   "outputs": [
    {
     "data": {
      "image/png": "[encoded data removed]",
      "text/plain": [
       "<Figure size 640x480 with 1 Axes>"
      ]
     },
     "metadata": {},
     "output_type": "display_data"
    },
    {
     "data": {
      "image/png": "[encoded data removed]",
      "text/plain": [
       "<Figure size 640x480 with 1 Axes>"
      ]
     },
     "metadata": {},
     "output_type": "display_data"
    }
   ],
   "source": [
    "# BMI Levels\n",
    "bmi_distributions = []\n",
    "for risk in risk_partition:\n",
    "    bmi_distributions.append([row['bmi'] for row in risk])\n",
    "\n",
    "box_plot(bmi_distributions, ['Healthy', 'At Risk'], 'Patient Heart Condition', 'BMI Level', 'BMI Comparison in Heart Patients (Fig 2)')\n",
    "\n",
    "# Triglyceride Levels\n",
    "tri_distributions = []\n",
    "for risk in risk_partition:\n",
    "    tri_distributions.append([row['triglycerides'] for row in risk])\n",
    "\n",
    "box_plot(tri_distributions, ['Healthy', 'At Risk'], 'Patient Heart Condition', 'Triglyceride Level', 'Triglyceride Levels in Heart Patients (Fig 3)')"
   ]
  },
  {
   "cell_type": "markdown",
   "metadata": {},
   "source": [
    "Although there are not massive differences between the visualizations, a combination of these attributes in the classifier could become a good indicator of heart attack risk patients. However, additional attributes from the global dataset will most likely be needed to make it more accurate.\n",
    "\n",
    "#### Global Health Visualizations\n",
    "\n",
    "Of the global attributes, the ones that seem most influential are how out of pocket expenditures, life expectancy, and physician accesibility affect one's ability to treat their own heart conditions. \n",
    "\n",
    "**Figure 4**\\\n",
    "Firstly, physician accesibility will be looked at to see if access to a physician affects one's life expectancy."
   ]
  },
  {
   "cell_type": "code",
   "execution_count": 35,
   "metadata": {},
   "outputs": [
    {
     "data": {
      "image/png": "[encoded data removed]",
      "text/plain": [
       "<Figure size 640x480 with 1 Axes>"
      ]
     },
     "metadata": {},
     "output_type": "display_data"
    }
   ],
   "source": [
    "life_ex_values = column_values(health_table, 'life_expectancy')\n",
    "phys_values = column_values(health_table, 'physicians')\n",
    "\n",
    "scatter_plot(life_ex_values, phys_values, 'Life Expectancy (Years)', 'Number of Physicians (per 1000)', 'Life Expectancy v. Physicians for Patients (Fig 4)')"
   ]
  },
  {
   "cell_type": "markdown",
   "metadata": {},
   "source": [
    "This dataset reveals a distinct positive correlation between the life expectancy of patients from certain countries compared to their ability to access physician care. Although this reveals such correlation, it is important to note that this is an average life expectancy by country and many personal factors can affect one's own life expectancy (obesity, smoking, etc.). This will be taken into consideration when developing the classifier.\n",
    "\n",
    "\n",
    "**Figure 5**\\\n",
    "The other important attribute is out of pocket health expenditures. In the dataset, it is represented as a percent of the total medical bill. If it is difficult to afford health services, then chances are that patients may be more at risk of suffering from heart attacks as treatment can be difficult to attain. One way would be to see how expenditures are distributed across the patients. If they all share the same expenditures, it is not worth exploring. However, if expenditures vary greatly, then this could be a useful factor to look at."
   ]
  },
  {
   "cell_type": "code",
   "execution_count": 36,
   "metadata": {},
   "outputs": [
    {
     "data": {
      "image/png": "[encoded data removed]",
      "text/plain": [
       "<Figure size 640x480 with 1 Axes>"
      ]
     },
     "metadata": {},
     "output_type": "display_data"
    }
   ],
   "source": [
    "expend_values = column_values(health_table, 'health_out_pocket')\n",
    "\n",
    "dot_chart(expend_values, 'Out of Pocket Health Expenditures (Percent of Total Bill)', 'Distribution of Out of Pocket Expenditures in Patients (Fig 5)')"
   ]
  },
  {
   "cell_type": "markdown",
   "metadata": {},
   "source": [
    "This reveals that there is an almost even distribution of expenditures, and it would be worth exploring more to see if these directly affect the prediction of one's health.\n",
    "\n",
    "#### Link Between Global and Patient Health\n",
    "\n",
    "**Figures 6 and 7**\\\n",
    "In order to ensure there is a link between global and patient health, a visualization will be made of how many patients come from each country to get an idea of how their locations are distributed across the dataset as well as how each country's risk varies. "
   ]
  },
  {
   "cell_type": "code",
   "execution_count": 37,
   "metadata": {},
   "outputs": [
    {
     "data": {
      "image/png": "[encoded data removed]",
      "text/plain": [
       "<Figure size 640x480 with 1 Axes>"
      ]
     },
     "metadata": {},
     "output_type": "display_data"
    },
    {
     "data": {
      "image/png": "[encoded data removed]",
      "text/plain": [
       "<Figure size 640x480 with 1 Axes>"
      ]
     },
     "metadata": {},
     "output_type": "display_data"
    }
   ],
   "source": [
    "# Partition the dataset by country\n",
    "country_partition = partition(health_table, ['country'])\n",
    "\n",
    "\n",
    "# Total amount of patients in each country\n",
    "country_patients = []\n",
    "for country in country_partition:\n",
    "    country_patients.append(len(column_values(country, 'heart_attack_risk')))\n",
    "\n",
    "country_label = [i for i in range(len(country_partition))]\n",
    "\n",
    "bar_chart(country_patients, country_label, 'Countries', 'Total Patients', 'Number of Patients per Country (Fig 6)')\n",
    "\n",
    "\n",
    "# Total amount of at risk patients in each country\n",
    "country_risk_values = []\n",
    "for country in country_partition:\n",
    "    count_list = []\n",
    "    for row in country:\n",
    "        if row['heart_attack_risk'] == 1:\n",
    "            count_list.append(1)\n",
    "    country_risk_values.append(sum(count_list))\n",
    "\n",
    "bar_chart(country_risk_values, country_label, 'Countries', 'Total Number of At Risk Patients', 'Number of At Risk Patients per Country (Fig 7)')"
   ]
  },
  {
   "cell_type": "markdown",
   "metadata": {},
   "source": [
    "These visualizations hint at the fact that countries may not necessarily be a deciding factor when it comes to patient risk to heart attacks. Even thought the number of at risk patients vary, they nearly mirror the distribution of total patients. Nevertheless, it is worth to see if the slight nuances can be picked up on by the classifier model constructed below."
   ]
  },
  {
   "cell_type": "markdown",
   "metadata": {},
   "source": [
    "### Feature Selection for Classification\n",
    "\n",
    "To begin, an initial list of classifier attributes will be selected based off of the initial visualizations as well as previous knowledge about tested indicators of heart attacks. The list of attributes includes both continuous and categorical data, which should help to create a well-rounded predictor utilizing classifier methods discussed in class (kNN, Naive Bayes, Decision Trees, etc.). Below is a brief explanation as to why the attribute is under consideration for use in the tailored classifier and its corrresponding attribute type.\n",
    "\n",
    "1. **Age**: [Categorical], health risk increases with time often with older people being more at risk\n",
    "1. **Cholesterol**: [Continuous], visualization showed a slight jump in risk for patients with higher cholesterol\n",
    "1. **Heart Rate**: [Continuous], average heart rate ties very close to physical activity which was revealed in BMI and triglyceride visualizations\n",
    "1. **Diabetes**: [Categorical], closely related to BMI and triglyceride visualizations and describes physical ailments more\n",
    "1. **Smoking**: [Categorical], acknowledged health trend that makes one more inclined to cardiovascular disease\n",
    "1. **Alcohol Consumption**: [Categorical], acknowledged health trend that makes one more inclined to cardiovascular disease\n",
    "1. **Exercise Hours**: [Continuous], further distinguishes nuances in patient physical activity\n",
    "1. **Stress**: [Categorical], another contributing factor to issues with overall heart health\n",
    "1. **Triglycerides**: [Continuous], trend revealed in initial data visualization\n",
    "1. **BMI**: [Continuous], trend revealed in initial data visualization\n",
    "1. **Country**: [Categorical], potential link to health care accesibility as shown in above visualizations\n",
    "1. **Life Expectancy**: [Continuous], potential affected result of health care accessibility\n",
    "1. **Out of Pocket Health Expenditure**: [Continuous], trend revealed in visualizations above\n",
    "1. **Physicians**: [Continuous], linked to life expectancy and shown to vary throughout dataset"
   ]
  },
  {
   "cell_type": "markdown",
   "metadata": {},
   "source": [
    "## Classification Results"
   ]
  },
  {
   "cell_type": "markdown",
   "metadata": {},
   "source": [
    "### Generating Training and Test Sets\n",
    "\n",
    "In order to experiement with the effectiveness of the simple classifiers, stratified holdout will be used in order to maintain the original distribution of the table. The split for these sets will 2/3 training set and 1/3 test set. Overall, this should provide a well-rounded performance check as each of the classifiers will have to develop on the same training parameters."
   ]
  },
  {
   "cell_type": "code",
   "execution_count": 38,
   "metadata": {},
   "outputs": [],
   "source": [
    "train, test = stratified_holdout(health_table, 'heart_attack_risk', int(health_table.row_count()/3))"
   ]
  },
  {
   "cell_type": "markdown",
   "metadata": {},
   "source": [
    "### kNN Classifier\n",
    "\n",
    "The kNN classifier is a great classifier to use when a combination of categorical and continuous features are introduced. Through the use of Euclidean distance, the closest instances are utilized to predict the label of the test instance. In this inital kNN test the use of the majority vote will be used to classify. This means that the top-k instances are all weighted the same in their vote, which directly impacts the outcome of predictions for this classifier.\n",
    "\n",
    "#### Parameter Settings\n",
    "This classifier, as mentioned above, uses majority vote to determine the label out of the top-k instances. For this test, a k value of 7 will be used to determine the closest instances to the current test row. All values will be displayed in a confusion matrix.\n",
    "\n",
    "**(a) Build the Classifier**"
   ]
  },
  {
   "cell_type": "code",
   "execution_count": 39,
   "metadata": {},
   "outputs": [],
   "source": [
    "knn_matrix = knn_eval(train, test, majority_vote, 7, 'heart_attack_risk', ['heart_rate', 'exercise_hrs', 'health_out_pocket'], \n",
    "                                                                          ['sex', 'diabetes', 'obesity', 'smoking', \n",
    "                                                                           'alcohol_csmp', 'stress', 'country', 'cholesterol', \n",
    "                                                                           'triglycerides', 'bmi', 'life_expectancy', 'physicians'])"
   ]
  },
  {
   "cell_type": "markdown",
   "metadata": {},
   "source": [
    "**(b) Evaluate the Classifier**"
   ]
  },
  {
   "cell_type": "code",
   "execution_count": 40,
   "metadata": {},
   "outputs": [
    {
     "name": "stdout",
     "output_type": "stream",
     "text": [
      "  actual     0    1\n",
      "--------  ----  ---\n",
      "       0  1484  390\n",
      "       1   831  215\n",
      "\n",
      "Average Accuracy: 0.5818493150684931\n",
      "\n",
      "Average Precision: 0.4982043089445406\n",
      "\n",
      "Average Recall: 0.49871697027452244\n",
      "\n",
      "Macro Average f-measure: 0.4844852667834869\n"
     ]
    }
   ],
   "source": [
    "# Print the matrix\n",
    "print(knn_matrix)\n",
    "\n",
    "# Compute accuracy, precision, recall\n",
    "acc = []\n",
    "prec = []\n",
    "rec = []\n",
    "for label in distinct_values(health_table, ['heart_attack_risk']):\n",
    "    acc.append(accuracy(knn_matrix, label))\n",
    "    prec.append(precision(knn_matrix, label))\n",
    "    rec.append(recall(knn_matrix, label))\n",
    "\n",
    "print(\"\\nAverage Accuracy:\", sum(acc)/len(acc))\n",
    "print(\"\\nAverage Precision:\", sum(prec)/len(prec))\n",
    "print(\"\\nAverage Recall:\", sum(rec)/len(rec))\n",
    "\n",
    "# Calculate the macro average f-measure\n",
    "f_measures = []\n",
    "for label in distinct_values(health_table, ['heart_attack_risk']):\n",
    "    cur_recall = recall(knn_matrix, label)\n",
    "    cur_precision = precision(knn_matrix, label)\n",
    "    f_measures.append((2 * cur_precision * cur_recall) / (cur_recall + cur_precision))\n",
    "print(\"\\nMacro Average f-measure:\", sum(f_measures)/len(f_measures))"
   ]
  },
  {
   "cell_type": "markdown",
   "metadata": {},
   "source": [
    "**(c) Analyze Classifier Performance**\n",
    "\n",
    "The overall performance of this classifier is not the worst. An accuracy around 58% implies that the data being input into the kNN model is influencing the predicition decision slightly. However, the f-measure provides the overall well-roundedness and versatility of such a model, and this measurement is not so strong for kNN. With an f-measure of 49, it shows that this classifier may only be effective with this accuracy with only the information presented. This means that new instances apart from this dataset may not reflect this performance as well. Nonetheless, the ability to use the continuous values allows for more information for the model in comparison to the below classifiers, which need to rely more on categorical values."
   ]
  },
  {
   "cell_type": "markdown",
   "metadata": {},
   "source": [
    "### Naive Bayes Classifier\n",
    "\n",
    "The Naive Bayes classification method predicts class labels using the probabilities of occurrences. This is done in an effective manner by assuming conditional independence among features. This allows for Bayes Theorem to be the statistical formula under the hood of this model. For continuous values, the Naive Bayes utilizes the Gaussian density formula to compute; however, this is a heavy computation and given the time constraint of this project, only categorical values will be looked at.\n",
    "\n",
    "#### Parameter Settings\n",
    "The parameters for this model are pretty simple. For the sake of time, only the categorical values found from feature selection will be utilized to predict the heart attack risk.\n",
    "\n",
    "**(a) Build the Classifier**"
   ]
  },
  {
   "cell_type": "code",
   "execution_count": 41,
   "metadata": {},
   "outputs": [],
   "source": [
    "bayes_matrix = naive_bayes_eval(train, test, 'heart_attack_risk', [], ['sex', 'diabetes', 'obesity', 'smoking', \n",
    "                                                                       'alcohol_csmp', 'stress', 'country', 'cholesterol', \n",
    "                                                                       'triglycerides', 'bmi', 'life_expectancy', 'physicians'])"
   ]
  },
  {
   "cell_type": "markdown",
   "metadata": {},
   "source": [
    "**(b) Evaluate the Classifier**"
   ]
  },
  {
   "cell_type": "code",
   "execution_count": 42,
   "metadata": {},
   "outputs": [
    {
     "name": "stdout",
     "output_type": "stream",
     "text": [
      "  actual     0    1\n",
      "--------  ----  ---\n",
      "       0  1874    0\n",
      "       1  1046    0\n",
      "\n",
      "Average Accuracy: 0.6417808219178082\n",
      "\n",
      "Average Precision: 0.8208904109589041\n",
      "\n",
      "Average Recall: 0.5\n",
      "\n",
      "Macro Average f-measure: 0.3909052982895285\n"
     ]
    }
   ],
   "source": [
    "# Print the Matrix\n",
    "print(bayes_matrix)\n",
    "\n",
    "# Compute accuracy, precision, recall\n",
    "acc = []\n",
    "prec = []\n",
    "rec = []\n",
    "for label in distinct_values(health_table, ['heart_attack_risk']):\n",
    "    acc.append(accuracy(bayes_matrix, label))\n",
    "    prec.append(precision(bayes_matrix, label))\n",
    "    rec.append(recall(bayes_matrix, label))\n",
    "\n",
    "print(\"\\nAverage Accuracy:\", sum(acc)/len(acc))\n",
    "print(\"\\nAverage Precision:\", sum(prec)/len(prec))\n",
    "print(\"\\nAverage Recall:\", sum(rec)/len(rec))\n",
    "\n",
    "# Calculate the macro average f-measure\n",
    "f_measures = []\n",
    "for label in distinct_values(health_table, ['heart_attack_risk']):\n",
    "    cur_recall = recall(bayes_matrix, label)\n",
    "    cur_precision = precision(bayes_matrix, label)\n",
    "    f_measures.append((2 * cur_precision * cur_recall) / (cur_recall + cur_precision))\n",
    "print(\"\\nMacro Average f-measure:\", sum(f_measures)/len(f_measures))"
   ]
  },
  {
   "cell_type": "markdown",
   "metadata": {},
   "source": [
    "**(c) Analyze Classifier Performance**\n",
    "\n",
    "The Naive Bayes model is a deceivingly inaccurate classifier for this example. It is true that it has the highest accuracy out of the three simple approaches. However, the f-measure is far lower than the other models. In fact, in the confusion matrix, no heart risk (0) was predicted nearly every time. Since 0 appeared more in the dataset than 1, naive bayes relies on the probability of an instance occurrence, so the 0 prediction every time makes sense for this classifier. However, for this project's dataset, it would not ideal to move forward in tailoring this classifier for the given dataset."
   ]
  },
  {
   "cell_type": "markdown",
   "metadata": {},
   "source": [
    "### Decision Tree Classifier\n",
    "\n",
    "The Decision Tree model is a rule based classifier. This means that the tree is built using a set of if-then rules from the training set. Unlike the previous instance at a time classifiers, the decision tree is built using the training set first. Then instances from the test set are fed into the built tree to determine the prediction. This is crucial as it allows for fast data analysis, and it introduces the opportunity to build off it to create an ensemble method that could perform better than the initial decision tree, if necessary.\n",
    "\n",
    "#### Parameter Settings\n",
    "The parameters for the decision tree are similar to that of Naive Bayes; however, it is important to note that these decision trees can only take in categorical values due to the way decision trees are built. After experimentation with different features from features selection, the features below seemed to combine to produce the best performing decision tree. These features will be used in the random forests ensemble as well.\n",
    "\n",
    "**(a) Build the Classifier**"
   ]
  },
  {
   "cell_type": "code",
   "execution_count": 43,
   "metadata": {},
   "outputs": [],
   "source": [
    "tree_matrix = tdidt_eval(train, test, 'heart_attack_risk', ['diabetes', 'obesity', 'smoking', \n",
    "                                                            'alcohol_csmp', 'cholesterol', \n",
    "                                                            'bmi', 'triglycerides', 'physicians'])"
   ]
  },
  {
   "cell_type": "markdown",
   "metadata": {},
   "source": [
    "**(b) Evaluate the Classifier**"
   ]
  },
  {
   "cell_type": "code",
   "execution_count": 44,
   "metadata": {},
   "outputs": [
    {
     "name": "stdout",
     "output_type": "stream",
     "text": [
      "  actual     0    1\n",
      "--------  ----  ---\n",
      "       0  1499  375\n",
      "       1   857  189\n",
      "\n",
      "Average Accuracy: 0.5780821917808219\n",
      "\n",
      "Average Precision: 0.48567713036881843\n",
      "\n",
      "Average Recall: 0.490290806467082\n",
      "\n",
      "Macro Average f-measure: 0.47176482680645493\n"
     ]
    }
   ],
   "source": [
    "# Print the Matrix\n",
    "print(tree_matrix)\n",
    "\n",
    "# Compute accuracy, precision, recall\n",
    "acc = []\n",
    "prec = []\n",
    "rec = []\n",
    "for label in distinct_values(health_table, ['heart_attack_risk']):\n",
    "    acc.append(accuracy(tree_matrix, label))\n",
    "    prec.append(precision(tree_matrix, label))\n",
    "    rec.append(recall(tree_matrix, label))\n",
    "\n",
    "print(\"\\nAverage Accuracy:\", sum(acc)/len(acc))\n",
    "print(\"\\nAverage Precision:\", sum(prec)/len(prec))\n",
    "print(\"\\nAverage Recall:\", sum(rec)/len(rec))\n",
    "\n",
    "# Calculate the macro average f-measure\n",
    "f_measures = []\n",
    "for label in distinct_values(health_table, ['heart_attack_risk']):\n",
    "    cur_recall = recall(tree_matrix, label)\n",
    "    cur_precision = precision(tree_matrix, label)\n",
    "    f_measures.append((2 * cur_precision * cur_recall) / (cur_recall + cur_precision))\n",
    "print(\"\\nMacro Average f-measure:\", sum(f_measures)/len(f_measures))"
   ]
  },
  {
   "cell_type": "markdown",
   "metadata": {},
   "source": [
    "**(c) Analyze Classifier Performance**\n",
    "\n",
    "Unfortunately, the decision tree was not completely successful in predicting heart attack risk. With an accuracy of a little over 57%, it is clear that this model is on par with the performance of kNN. However, this is the prediction rate of one decision tree. What can hopefully be depicted in a tailored classifier below is that the use of random forests allows for more analytics to influence the prediction of each test instance."
   ]
  },
  {
   "cell_type": "markdown",
   "metadata": {},
   "source": [
    "### Analyzing Simple Approaches for Tailored Classifier\n",
    "\n",
    "Overall, the simple classifiers struggled to make the correct prediction with all of the models falling under the accuracy range of about 55%-65%. Although this is not a completely failure of a classifier, it poses the question: Is any attribute a clear indicator of heart risk? If anything, these classifiers imply this may not be the case. One inference is that the intial dataset started with so many attributes because heart disease has so many impacting factors. For these simple models, it is difficult for them to identify the overall nuance in the lifestyle of a healthy versus an unhealthy patient. For example, though one may be from a country where heart risk is higher, their vitals may be far healthier, throwing off the prediction. This is just a simple example, and it can be seen that the abundance of features to analyze could be making it difficult to identify the nuance for patients in the test set."
   ]
  },
  {
   "cell_type": "markdown",
   "metadata": {},
   "source": [
    "### Tailored Classifier: Random Forests\n",
    "\n",
    "Random forests is the ensemble method that will be looked at to improve on the simple approaches. The main goal of an ensemble is to train many classifiers. Test instances are then run through each of the classifiers to get a prediction. The final prediction is then selected through voting of the labels produced from the set of classifiers. For random forests, this is done by creating an ensemble of decision trees. Since decision trees build very quickly in comparison to the other models, this will enable the ability to build many trees in a reasonable amount of time.\n",
    "\n",
    "#### Parameter Settings\n",
    "The parameters of the random forest will use the following values for each parameter:\n",
    "\n",
    "1. F = 8: Number of features (columns) to select.\n",
    "1. M = 4: Number of trees to include in random forest.\n",
    "1. N = 24: Number of trees to initially generate.\n",
    "1. All categorical columns from the feature selection part\n",
    "\n",
    "**(a) Build the Classifier**"
   ]
  },
  {
   "cell_type": "code",
   "execution_count": 47,
   "metadata": {},
   "outputs": [],
   "source": [
    "forest_matrix = random_forest_eval(health_table, train, test, 8, 4, 24, 'heart_attack_risk', ['diabetes', 'obesity', 'smoking', \n",
    "                                                                                               'alcohol_csmp', 'cholesterol', \n",
    "                                                                                               'bmi', 'life_expectancy', 'physicians'])"
   ]
  },
  {
   "cell_type": "markdown",
   "metadata": {},
   "source": [
    "**(b) Evaluate the Classifier**"
   ]
  },
  {
   "cell_type": "code",
   "execution_count": 48,
   "metadata": {},
   "outputs": [
    {
     "name": "stdout",
     "output_type": "stream",
     "text": [
      "  actual     0    1\n",
      "--------  ----  ---\n",
      "       0  1732  142\n",
      "       1   973   73\n",
      "\n",
      "Average Accuracy: 0.6181506849315068\n",
      "\n",
      "Average Precision: 0.48991531616730427\n",
      "\n",
      "Average Recall: 0.49700796447716666\n",
      "\n",
      "Macro Average f-measure: 0.4361390889242151\n"
     ]
    }
   ],
   "source": [
    "# Print auto matrix\n",
    "print(forest_matrix)\n",
    "\n",
    "# Compute accuracy, precision, recall\n",
    "acc = []\n",
    "prec = []\n",
    "rec = []\n",
    "for label in distinct_values(health_table, ['heart_attack_risk']):\n",
    "    acc.append(accuracy(forest_matrix, label))\n",
    "    prec.append(precision(forest_matrix, label))\n",
    "    rec.append(recall(forest_matrix, label))\n",
    "\n",
    "print(\"\\nAverage Accuracy:\", sum(acc)/len(acc))\n",
    "print(\"\\nAverage Precision:\", sum(prec)/len(prec))\n",
    "print(\"\\nAverage Recall:\", sum(rec)/len(rec))\n",
    "\n",
    "# Calculate the macro average f-measure\n",
    "f_measures = []\n",
    "for label in distinct_values(health_table, ['heart_attack_risk']):\n",
    "    cur_recall = recall(forest_matrix, label)\n",
    "    cur_precision = precision(forest_matrix, label)\n",
    "    f_measures.append((2 * cur_precision * cur_recall) / (cur_recall + cur_precision))\n",
    "print(\"\\nMacro Average f-measure:\", sum(f_measures)/len(f_measures))"
   ]
  },
  {
   "cell_type": "markdown",
   "metadata": {},
   "source": [
    "**(c) Analyze Classifier Performance**\n",
    "\n",
    "Overall, the ensemble method performed very similarly to the singular decision tree. Though it did not reach the accuracy of the naive bayes classifiers, it improved significantly in the f-measure section which shows how well-rounded this model is at predicting new instances. There is definitely room to improve this method by playing around more with the F, N, and M values, but overall, this example above is an initial indicator of improvement through the use of tailoring a simple classifier method."
   ]
  },
  {
   "cell_type": "markdown",
   "metadata": {},
   "source": [
    "## Conclusion"
   ]
  },
  {
   "cell_type": "markdown",
   "metadata": {},
   "source": [
    "### Overall Classification Results\n",
    "\n",
    "Overall, the classification results struggled to optimize past an accuracy of around 60-65%. I think this is due to the fact that the size of the patient health dataset was small in consideration of the amount of factors that were used to determine a patient's risk for heart attack. This is due to the fact that as the number of features in consideration increases, the opportunity for nuance and variety of values that fall under a certain label increases greatly. This was one of the main issues that possibly kept the classifier's performance so low across all approaches for the dataset. Additionally, it seems that the large number of features used in classification also may have reduced the effect of the features pulled from the world dataset as the number of influencing factors from that set were greatly outnumbered by the features selected from the patient's health data.\n",
    "\n",
    "The tailored classifier, although miniscule, did improve in its performance in comparison to the three approaches. It is important to look at accuracies; however, this does not paint the whole story for a model. As mentioned earlier, f-measure shows just how well-rounded the model is at predicting instances in or out of the current dataset. This is where improvement also occurred with random forests which shows that, although small, the tailored classifier improved performance slightly and a couple of areas."
   ]
  },
  {
   "cell_type": "markdown",
   "metadata": {},
   "source": [
    "### Challenges Encountered\n",
    "\n",
    "One of the main challenges encountered occurred when experimenting with the classification methods. For naive bayes, in particular, as well as the other algorithms, the time it took to develop results on the dataset made it difficult to experiment quickly with different parameters and feature combinations. This is due to the fact that some of the algorithms implemented may not have had the quickest and most optimal implementation. Moreover, it would have been worth experimenting with a portion of the dataset first before running tests on the dataset as a whole, which will be considered more in future projects.\n",
    "\n",
    "Another challenge that was encountered was optimizing the random forest classifier. Given that different F, N, and M values alter the overall performance of the model, it was difficult to gage what truly is the optimal values for the forest in a reasonable amount of tests. One big takeaway from this is that, depending on the dataset, there are only a certain number of unique trees that can be produced. So rather than bumping of M and N to large values, it is worth more considering the ratio of the two when deciding to pick the best of the decision trees initially created."
   ]
  },
  {
   "cell_type": "markdown",
   "metadata": {},
   "source": [
    "### Ways to Improve Classification Performance\n",
    "\n",
    "In terms of optimization, it is clear that nearly all of the classifiers could use a performance boost. Optimizing the underlying algorithms, especially for naive bayes and its gaussian density allows for different feature selections as the time to complete an experiment will not take as long. Similarly, improving these functions opens the door for more time to test and experiment with different feature combinations to identify the best parameters for the classifier.\n",
    "\n",
    "Another way to improve classification performance would be to explore the data more. In this project, only a couple of features were visualized and analyzed. In order to get a better idea of what exactly is linked to heart attack risks, visualizations should ideally be done on all of the attributes in the dataset before completing the feature selection for the classifier. This is particularly important for this dataset because simple medical inference is made to decide some of the features. In order to build an true classifier, the features should be selected strictly from an analytical standpoint."
   ]
  },
  {
   "cell_type": "markdown",
   "metadata": {},
   "source": [
    "### Further Steps to Perform\n",
    "\n",
    "As mentioned in the improvement section above, the next step would be to jump back to visualizations of the dataset. In order to achieve the most optimal solution for this dataset, the attributes should be fully explored. With this new information, the feature selection step can be redone. More importantly, stricter restraints would be imposed to ensure that only the most directly influencing attributes are selected for the classifier model. This step would hopefully reduce the introduction of features that may nuance the data more than it provides more information about what class an instance belongs to.\n",
    "\n",
    "Another further step would be to look out further to new patient datasets. With only 8000, instances it is difficult to really get an idea of how country health conditions affect one's health. To get a better understanding of the populations, there needs to be more patient data to really study how accessibility to health affects individual patient health."
   ]
  }
 ],
 "metadata": {
  "kernelspec": {
   "display_name": "cpsc322",
   "language": "python",
   "name": "python3"
  },
  "language_info": {
   "codemirror_mode": {
    "name": "ipython",
    "version": 3
   },
   "file_extension": ".py",
   "mimetype": "text/x-python",
   "name": "python",
   "nbconvert_exporter": "python",
   "pygments_lexer": "ipython3",
   "version": "3.11.4"
  }
 },
 "nbformat": 4,
 "nbformat_minor": 2
}
